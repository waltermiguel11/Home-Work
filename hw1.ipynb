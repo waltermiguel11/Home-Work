{
  "cells": [
    {
      "cell_type": "code",
      "execution_count": 1,
      "metadata": {
        "colab": {
          "base_uri": "https://localhost:8080/",
          "height": 206
        },
        "id": "rcCyF5dYGPjD",
        "outputId": "7eabd0a6-bae6-4711-820e-26fafe7f7072"
      },
      "outputs": [
        {
          "data": {
            "text/html": [
              "\n",
              "  <div id=\"df-fb6a86a3-54f2-41d2-9d9a-cd318c096aee\">\n",
              "    <div class=\"colab-df-container\">\n",
              "      <div>\n",
              "<style scoped>\n",
              "    .dataframe tbody tr th:only-of-type {\n",
              "        vertical-align: middle;\n",
              "    }\n",
              "\n",
              "    .dataframe tbody tr th {\n",
              "        vertical-align: top;\n",
              "    }\n",
              "\n",
              "    .dataframe thead th {\n",
              "        text-align: right;\n",
              "    }\n",
              "</style>\n",
              "<table border=\"1\" class=\"dataframe\">\n",
              "  <thead>\n",
              "    <tr style=\"text-align: right;\">\n",
              "      <th></th>\n",
              "      <th>template</th>\n",
              "      <th>mem_href</th>\n",
              "      <th>mem_description</th>\n",
              "    </tr>\n",
              "  </thead>\n",
              "  <tbody>\n",
              "    <tr>\n",
              "      <th>13706</th>\n",
              "      <td>Drake-Hotline-Bling</td>\n",
              "      <td>/i/5w3916</td>\n",
              "      <td>\\nIMAGE DESCRIPTION:\\nyou get infinite life; die</td>\n",
              "    </tr>\n",
              "    <tr>\n",
              "      <th>10970</th>\n",
              "      <td>Disaster-Girl</td>\n",
              "      <td>/i/5thvus</td>\n",
              "      <td>\\nIMAGE DESCRIPTION:\\nTHEY REMINDED THE TEACHE...</td>\n",
              "    </tr>\n",
              "    <tr>\n",
              "      <th>36160</th>\n",
              "      <td>Unsettled-Tom</td>\n",
              "      <td>/i/4pmdsl</td>\n",
              "      <td>\\nIMAGE DESCRIPTION:\\nme: does an unboxing vid...</td>\n",
              "    </tr>\n",
              "    <tr>\n",
              "      <th>17992</th>\n",
              "      <td>Expanding-Brain</td>\n",
              "      <td>/i/5s2tjx</td>\n",
              "      <td>\\nIMAGE DESCRIPTION:\\nUPVOTING MEMES FOR POINT...</td>\n",
              "    </tr>\n",
              "    <tr>\n",
              "      <th>31935</th>\n",
              "      <td>Third-World-Skeptical-Kid</td>\n",
              "      <td>/i/2h85g7</td>\n",
              "      <td>\\nIMAGE DESCRIPTION:\\nSO YOU'RE TELLING ME YOU...</td>\n",
              "    </tr>\n",
              "  </tbody>\n",
              "</table>\n",
              "</div>\n",
              "      <button class=\"colab-df-convert\" onclick=\"convertToInteractive('df-fb6a86a3-54f2-41d2-9d9a-cd318c096aee')\"\n",
              "              title=\"Convert this dataframe to an interactive table.\"\n",
              "              style=\"display:none;\">\n",
              "        \n",
              "  <svg xmlns=\"http://www.w3.org/2000/svg\" height=\"24px\"viewBox=\"0 0 24 24\"\n",
              "       width=\"24px\">\n",
              "    <path d=\"M0 0h24v24H0V0z\" fill=\"none\"/>\n",
              "    <path d=\"M18.56 5.44l.94 2.06.94-2.06 2.06-.94-2.06-.94-.94-2.06-.94 2.06-2.06.94zm-11 1L8.5 8.5l.94-2.06 2.06-.94-2.06-.94L8.5 2.5l-.94 2.06-2.06.94zm10 10l.94 2.06.94-2.06 2.06-.94-2.06-.94-.94-2.06-.94 2.06-2.06.94z\"/><path d=\"M17.41 7.96l-1.37-1.37c-.4-.4-.92-.59-1.43-.59-.52 0-1.04.2-1.43.59L10.3 9.45l-7.72 7.72c-.78.78-.78 2.05 0 2.83L4 21.41c.39.39.9.59 1.41.59.51 0 1.02-.2 1.41-.59l7.78-7.78 2.81-2.81c.8-.78.8-2.07 0-2.86zM5.41 20L4 18.59l7.72-7.72 1.47 1.35L5.41 20z\"/>\n",
              "  </svg>\n",
              "      </button>\n",
              "      \n",
              "  <style>\n",
              "    .colab-df-container {\n",
              "      display:flex;\n",
              "      flex-wrap:wrap;\n",
              "      gap: 12px;\n",
              "    }\n",
              "\n",
              "    .colab-df-convert {\n",
              "      background-color: #E8F0FE;\n",
              "      border: none;\n",
              "      border-radius: 50%;\n",
              "      cursor: pointer;\n",
              "      display: none;\n",
              "      fill: #1967D2;\n",
              "      height: 32px;\n",
              "      padding: 0 0 0 0;\n",
              "      width: 32px;\n",
              "    }\n",
              "\n",
              "    .colab-df-convert:hover {\n",
              "      background-color: #E2EBFA;\n",
              "      box-shadow: 0px 1px 2px rgba(60, 64, 67, 0.3), 0px 1px 3px 1px rgba(60, 64, 67, 0.15);\n",
              "      fill: #174EA6;\n",
              "    }\n",
              "\n",
              "    [theme=dark] .colab-df-convert {\n",
              "      background-color: #3B4455;\n",
              "      fill: #D2E3FC;\n",
              "    }\n",
              "\n",
              "    [theme=dark] .colab-df-convert:hover {\n",
              "      background-color: #434B5C;\n",
              "      box-shadow: 0px 1px 3px 1px rgba(0, 0, 0, 0.15);\n",
              "      filter: drop-shadow(0px 1px 2px rgba(0, 0, 0, 0.3));\n",
              "      fill: #FFFFFF;\n",
              "    }\n",
              "  </style>\n",
              "\n",
              "      <script>\n",
              "        const buttonEl =\n",
              "          document.querySelector('#df-fb6a86a3-54f2-41d2-9d9a-cd318c096aee button.colab-df-convert');\n",
              "        buttonEl.style.display =\n",
              "          google.colab.kernel.accessAllowed ? 'block' : 'none';\n",
              "\n",
              "        async function convertToInteractive(key) {\n",
              "          const element = document.querySelector('#df-fb6a86a3-54f2-41d2-9d9a-cd318c096aee');\n",
              "          const dataTable =\n",
              "            await google.colab.kernel.invokeFunction('convertToInteractive',\n",
              "                                                     [key], {});\n",
              "          if (!dataTable) return;\n",
              "\n",
              "          const docLinkHtml = 'Like what you see? Visit the ' +\n",
              "            '<a target=\"_blank\" href=https://colab.research.google.com/notebooks/data_table.ipynb>data table notebook</a>'\n",
              "            + ' to learn more about interactive tables.';\n",
              "          element.innerHTML = '';\n",
              "          dataTable['output_type'] = 'display_data';\n",
              "          await google.colab.output.renderOutput(dataTable, element);\n",
              "          const docLink = document.createElement('div');\n",
              "          docLink.innerHTML = docLinkHtml;\n",
              "          element.appendChild(docLink);\n",
              "        }\n",
              "      </script>\n",
              "    </div>\n",
              "  </div>\n",
              "  "
            ],
            "text/plain": [
              "                        template  ...                                    mem_description\n",
              "13706        Drake-Hotline-Bling  ...  \\nIMAGE DESCRIPTION:\\nyou get infinite life; die \n",
              "10970              Disaster-Girl  ...  \\nIMAGE DESCRIPTION:\\nTHEY REMINDED THE TEACHE...\n",
              "36160              Unsettled-Tom  ...  \\nIMAGE DESCRIPTION:\\nme: does an unboxing vid...\n",
              "17992            Expanding-Brain  ...  \\nIMAGE DESCRIPTION:\\nUPVOTING MEMES FOR POINT...\n",
              "31935  Third-World-Skeptical-Kid  ...  \\nIMAGE DESCRIPTION:\\nSO YOU'RE TELLING ME YOU...\n",
              "\n",
              "[5 rows x 3 columns]"
            ]
          },
          "execution_count": 1,
          "metadata": {},
          "output_type": "execute_result"
        }
      ],
      "source": [
        "import pandas as pd\n",
        "\n",
        "df = pd.read_csv(\"https://github.com/mrsndmn/memes-dataset/raw/main/memes-dataset.csv\")\n",
        "df.sample(5)"
      ]
    },
    {
      "cell_type": "code",
      "execution_count": 2,
      "metadata": {
        "colab": {
          "base_uri": "https://localhost:8080/",
          "height": 856
        },
        "id": "jNx5PBXoUixf",
        "outputId": "105fda57-73e2-4e50-a865-7c176f50bcd2"
      },
      "outputs": [
        {
          "data": {
            "text/html": [
              "<img src=\"https://i.imgflip.com/61bzbr.jpg\"/>"
            ],
            "text/plain": [
              "<IPython.core.display.Image object>"
            ]
          },
          "execution_count": 2,
          "metadata": {},
          "output_type": "execute_result"
        }
      ],
      "source": [
        "from IPython.display import Image\n",
        "from IPython.core.display import HTML\n",
        "from bs4 import BeautifulSoup\n",
        "import requests\n",
        "import pandas as pd\n",
        "from tqdm.auto import tqdm\n",
        "\n",
        "def show_meme(meme_url_path):\n",
        "    \"\"\"\n",
        "    Ф-я для просмотра мема по mem_href\n",
        "    \"\"\"\n",
        "    meme_url = \"https://imgflip.com\" + meme_url_path\n",
        "    # print(meme_url)\n",
        "    meme_url_resp = requests.get(meme_url)\n",
        "    meme_parser = BeautifulSoup(meme_url_resp.content, 'html.parser')\n",
        "\n",
        "    image_element = meme_parser.find(\"img\", {\"id\": \"im\"})\n",
        "    # print(image_element)\n",
        "\n",
        "    image_url = \"https:\" + image_element.get('src')\n",
        "    # print(image_url)\n",
        "    return Image( url=image_url )\n",
        "\n",
        "show_meme(\"/i/61bzbr\")"
      ]
    },
    {
      "cell_type": "code",
      "execution_count": 3,
      "metadata": {
        "colab": {
          "base_uri": "https://localhost:8080/"
        },
        "id": "BXwMgQlPLSPS",
        "outputId": "f2fd93aa-04ee-4f75-b4ac-36142c4604a9"
      },
      "outputs": [
        {
          "data": {
            "text/plain": [
              "532"
            ]
          },
          "execution_count": 3,
          "metadata": {},
          "output_type": "execute_result"
        }
      ],
      "source": [
        "df['mem_description'].isna().sum()"
      ]
    },
    {
      "cell_type": "markdown",
      "metadata": {
        "id": "84G9Upb5Uv3I"
      },
      "source": [
        "# Какая-то предобработка"
      ]
    },
    {
      "cell_type": "code",
      "execution_count": 4,
      "metadata": {
        "id": "QkHsI9XyLcrc"
      },
      "outputs": [],
      "source": [
        "# df.dropna(inplace=True)\n",
        "df.fillna(\"\", inplace=True)"
      ]
    },
    {
      "cell_type": "code",
      "execution_count": 5,
      "metadata": {
        "colab": {
          "base_uri": "https://localhost:8080/"
        },
        "id": "8fAR-OkzJkMA",
        "outputId": "310f650b-7169-45d8-e544-c32560661853"
      },
      "outputs": [
        {
          "data": {
            "text/plain": [
              "0                       if you have a twin your lucky \n",
              "1    me; dad; me and my dad when mom screams who at...\n",
              "2        me; a kid wearing the same shirt i'm wearing \n",
              "3                                         brands; you \n",
              "4     among us be like; your the impostor; no you are \n",
              "Name: mem_description, dtype: object"
            ]
          },
          "execution_count": 5,
          "metadata": {},
          "output_type": "execute_result"
        }
      ],
      "source": [
        "desc_prefix = \"\\nIMAGE DESCRIPTION:\\n\"\n",
        "\n",
        "df['mem_description'] = df['mem_description'].fillna(\"\").apply( lambda x: x[len(desc_prefix):].lower() if x.startswith(desc_prefix) else x )\n",
        "df['mem_description'].head()"
      ]
    },
    {
      "cell_type": "code",
      "execution_count": 6,
      "metadata": {
        "id": "LJ1uNFqlL1mB"
      },
      "outputs": [],
      "source": [
        "from collections import Counter\n",
        "import string\n",
        "from sklearn.base import TransformerMixin, BaseEstimator\n",
        "\n",
        "class CharacterCounterTransformer(TransformerMixin, BaseEstimator):\n",
        "    \"\"\"\n",
        "    Трансформер, который генерирует фичи по текстовому полю -- количество букв, которые встретились в описании текста\n",
        "    \"\"\"\n",
        "\n",
        "    ascii_lowercase_list = list(string.ascii_lowercase)\n",
        "\n",
        "    def __init__(self, transform_column):\n",
        "\n",
        "        self.transform_column = transform_column\n",
        "\n",
        "        return\n",
        "\n",
        "    def fit(self, X, y=None):\n",
        "        return self\n",
        "\n",
        "    def transform(self, X):\n",
        "        assert isinstance(X, pd.DataFrame), \"X must be dataframe\"\n",
        "\n",
        "        batch_chars_counts = []\n",
        "        \n",
        "        for i, row in X.iterrows():\n",
        "\n",
        "            # print(row, self.transform_column)\n",
        "            meme_description = row[self.transform_column].lower()\n",
        "            meme_description_chars_counter = Counter(meme_description)\n",
        "\n",
        "            chars_counts = []\n",
        "            for char in self.ascii_lowercase_list:\n",
        "                chars_counts.append( meme_description_chars_counter.get(char, 0) )\n",
        "\n",
        "            batch_chars_counts.append(chars_counts)\n",
        "\n",
        "        X = X.copy()\n",
        "\n",
        "        X[self.ascii_lowercase_list] = batch_chars_counts\n",
        "\n",
        "        return X"
      ]
    },
    {
      "cell_type": "markdown",
      "metadata": {
        "id": "JycMYivEYcyf"
      },
      "source": [
        "# Обучаем модель"
      ]
    },
    {
      "cell_type": "code",
      "execution_count": 7,
      "metadata": {
        "colab": {
          "base_uri": "https://localhost:8080/"
        },
        "id": "TDsRco4jNxA4",
        "outputId": "f61c18e3-cb9d-4471-beda-72ca40a17f77"
      },
      "outputs": [
        {
          "data": {
            "text/plain": [
              "Pipeline(steps=[('count_characters',\n",
              "                 CharacterCounterTransformer(transform_column='mem_description')),\n",
              "                ('preprocessing',\n",
              "                 ColumnTransformer(transformers=[['scale_chars_counts',\n",
              "                                                  StandardScaler(),\n",
              "                                                  ['a', 'b', 'c', 'd', 'e', 'f',\n",
              "                                                   'g', 'h', 'i', 'j', 'k', 'l',\n",
              "                                                   'm', 'n', 'o', 'p', 'q', 'r',\n",
              "                                                   's', 't', 'u', 'v', 'w', 'x',\n",
              "                                                   'y', 'z']]])),\n",
              "                ('classifier', SGDClassifier())])"
            ]
          },
          "execution_count": 7,
          "metadata": {},
          "output_type": "execute_result"
        }
      ],
      "source": [
        "from sklearn.linear_model import SGDClassifier\n",
        "from sklearn.compose import ColumnTransformer\n",
        "from sklearn.pipeline import Pipeline\n",
        "from sklearn.preprocessing import StandardScaler\n",
        "import numpy as np\n",
        "\n",
        "np.random.seed(42)\n",
        "\n",
        "steps = [\n",
        "    (\"count_characters\", CharacterCounterTransformer('mem_description')),\n",
        "    (\"preprocessing\", ColumnTransformer([\n",
        "                                         [ \"scale_chars_counts\", StandardScaler(), CharacterCounterTransformer.ascii_lowercase_list ],\n",
        "    ])),\n",
        "    (\"classifier\", SGDClassifier()),\n",
        "]\n",
        "\n",
        "clf_pipeline = Pipeline(steps)\n",
        "clf_pipeline.fit( df, df['template'] )"
      ]
    },
    {
      "cell_type": "markdown",
      "metadata": {
        "id": "8eEgtMX3Y6NX"
      },
      "source": [
        "# Получаем предсказания, сохраняем их в файл, запускаем тест"
      ]
    },
    {
      "cell_type": "code",
      "execution_count": 8,
      "metadata": {
        "colab": {
          "base_uri": "https://localhost:8080/"
        },
        "id": "nQ7wY_25SiDb",
        "outputId": "3debc10a-a953-4a83-dd36-d4452ef47e70"
      },
      "outputs": [
        {
          "data": {
            "text/plain": [
              "0.10232735597100344"
            ]
          },
          "execution_count": 8,
          "metadata": {},
          "output_type": "execute_result"
        }
      ],
      "source": [
        "from sklearn.metrics import accuracy_score, f1_score\n",
        "\n",
        "predictions = clf_pipeline.predict( df )\n",
        "accuracy_score(predictions, df['template'])"
      ]
    },
    {
      "cell_type": "code",
      "execution_count": 9,
      "metadata": {
        "id": "mRVrfKIDX-1O"
      },
      "outputs": [],
      "source": [
        "pd.DataFrame({ \"predictions\": predictions }).to_csv(\"predictions.csv\", header=None, index=None)"
      ]
    },
    {
      "cell_type": "code",
      "execution_count": 10,
      "metadata": {
        "colab": {
          "base_uri": "https://localhost:8080/"
        },
        "id": "oPejnZ-OYKBM",
        "outputId": "b51f5942-f720-4e18-9ca0-0497ae83c136"
      },
      "outputs": [
        {
          "name": "stdout",
          "output_type": "stream",
          "text": [
            "Futurama-Fry\n",
            "Hide-the-Pain-Harold\n",
            "Drake-Hotline-Bling\n",
            "Futurama-Fry\n",
            "Roll-Safe-Think-About-It\n",
            "This-Is-Fine\n",
            "Expanding-Brain\n",
            "Futurama-Fry\n",
            "Futurama-Fry\n",
            "This-Is-Fine\n"
          ]
        }
      ],
      "source": [
        "!head predictions.csv"
      ]
    },
    {
      "cell_type": "code",
      "execution_count": 11,
      "metadata": {
        "id": "McmjRwWuZFNk"
      },
      "outputs": [],
      "source": [
        "from sklearn.metrics import accuracy_score\n",
        "import pandas as pd\n",
        "\n",
        "def test_meme_predictions():\n",
        "    \"\"\" Тест проверяет, что ваша модель смогла набрать минимальный скор хотя бы на тренировочных данных \"\"\"\n",
        "\n",
        "    predictions = pd.read_csv('predictions.csv', header=None)\n",
        "    origial_df  = pd.read_csv(\"https://github.com/mrsndmn/memes-dataset/raw/main/memes-dataset.csv\")\n",
        "    assert accuracy_score(origial_df['template'], predictions.iloc[:, 0]) > 0.05\n",
        "\n",
        "test_meme_predictions()"
      ]
    },
    {
      "cell_type": "markdown",
      "metadata": {
        "id": "Dlj2foeLajb5"
      },
      "source": [
        "# Посмотрим, как моделька обучилась, попробуем с ней поиграться"
      ]
    },
    {
      "cell_type": "code",
      "execution_count": 12,
      "metadata": {
        "colab": {
          "base_uri": "https://localhost:8080/"
        },
        "id": "DZFxf9j-VKOe",
        "outputId": "4f3ecd0f-8aa0-470d-adcc-41d09f3a1d1d"
      },
      "outputs": [
        {
          "data": {
            "text/plain": [
              "Futurama-Fry                                             8626\n",
              "Expanding-Brain                                          2952\n",
              "Leonardo-Dicaprio-Cheers                                 2843\n",
              "Success-Kid                                              2536\n",
              "Roll-Safe-Think-About-It                                 2153\n",
              "Buff-Doge-vs-Cheems                                      1873\n",
              "Always-Has-Been                                          1760\n",
              "This-Is-Fine                                             1725\n",
              "Woman-Yelling-At-Cat                                     1658\n",
              "I-Bet-Hes-Thinking-About-Other-Women                     1566\n",
              "Evil-Toddler                                             1038\n",
              "Shut-Up-And-Take-My-Money-Fry                            1036\n",
              "X-X-Everywhere                                           1030\n",
              "Is-This-A-Pigeon                                          986\n",
              "50421420/Disappointed-Black-Guy                           967\n",
              "Two-Buttons                                               930\n",
              "Bike-Fall                                                 862\n",
              "Epic-Handshake                                            796\n",
              "Ancient-Aliens                                            679\n",
              "Hide-the-Pain-Harold                                      602\n",
              "Disaster-Girl                                             497\n",
              "Unsettled-Tom                                             463\n",
              "Third-World-Skeptical-Kid                                 460\n",
              "Monkey-Puppet                                             396\n",
              "Drake-Hotline-Bling                                       215\n",
              "Distracted-Boyfriend                                      102\n",
              "110133729/spiderman-pointing-at-spiderman                 100\n",
              "Bender                                                     97\n",
              "309868304/Trade-Offer                                      90\n",
              "193286698/Empty-Stonks                                     80\n",
              "221578498/Grant-Gustin-over-grave                          62\n",
              "322841258/Anakin-Padme-4-Panel                             48\n",
              "216523697/All-My-Homies-Hate                               39\n",
              "188789496/Moe-throws-Barney                                22\n",
              "85552183/skinner-pathetic                                  13\n",
              "133946291/You-know-Im-something-of-a-scientist-myself      10\n",
              "195710097/Black-guy-hiding-behind-tree                      3\n",
              "dtype: int64"
            ]
          },
          "execution_count": 12,
          "metadata": {},
          "output_type": "execute_result"
        }
      ],
      "source": [
        "pd.Series(clf_pipeline.predict( df )).value_counts()"
      ]
    },
    {
      "cell_type": "code",
      "execution_count": 13,
      "metadata": {
        "colab": {
          "base_uri": "https://localhost:8080/",
          "height": 363
        },
        "id": "btpus0NWVSRc",
        "outputId": "2dcc9fb1-3e3d-42b2-f803-1b31f1104a36"
      },
      "outputs": [
        {
          "data": {
            "text/html": [
              "\n",
              "  <div id=\"df-c6596481-ad5c-4bf0-8038-ae12ebb1a40a\">\n",
              "    <div class=\"colab-df-container\">\n",
              "      <div>\n",
              "<style scoped>\n",
              "    .dataframe tbody tr th:only-of-type {\n",
              "        vertical-align: middle;\n",
              "    }\n",
              "\n",
              "    .dataframe tbody tr th {\n",
              "        vertical-align: top;\n",
              "    }\n",
              "\n",
              "    .dataframe thead th {\n",
              "        text-align: right;\n",
              "    }\n",
              "</style>\n",
              "<table border=\"1\" class=\"dataframe\">\n",
              "  <thead>\n",
              "    <tr style=\"text-align: right;\">\n",
              "      <th></th>\n",
              "      <th>mem_href</th>\n",
              "      <th>mem_description</th>\n",
              "    </tr>\n",
              "  </thead>\n",
              "  <tbody>\n",
              "    <tr>\n",
              "      <th>19832</th>\n",
              "      <td>/i/4cs0ed</td>\n",
              "      <td>me trying to make friends</td>\n",
              "    </tr>\n",
              "    <tr>\n",
              "      <th>19211</th>\n",
              "      <td>/i/5n2m7y</td>\n",
              "      <td>do you think the black power ranger got offend...</td>\n",
              "    </tr>\n",
              "    <tr>\n",
              "      <th>19137</th>\n",
              "      <td>/i/5p8n8a</td>\n",
              "      <td>trying to find out if i broke facebook's polic...</td>\n",
              "    </tr>\n",
              "    <tr>\n",
              "      <th>19711</th>\n",
              "      <td>/i/547lsd</td>\n",
              "      <td>not sure if; soccer or football</td>\n",
              "    </tr>\n",
              "    <tr>\n",
              "      <th>19025</th>\n",
              "      <td>/i/5v57lw</td>\n",
              "      <td>me when i go upsairs and i see my parents room...</td>\n",
              "    </tr>\n",
              "    <tr>\n",
              "      <th>19421</th>\n",
              "      <td>/i/5jq1d9</td>\n",
              "      <td>mum during a fight \"my house!!!\"; mum during c...</td>\n",
              "    </tr>\n",
              "    <tr>\n",
              "      <th>19790</th>\n",
              "      <td>/i/4fqw64</td>\n",
              "      <td>not sure if reaper leviathan is tryna hug me; ...</td>\n",
              "    </tr>\n",
              "    <tr>\n",
              "      <th>19041</th>\n",
              "      <td>/i/5tls2u</td>\n",
              "      <td>be on cams on among us be like; 3 hours later</td>\n",
              "    </tr>\n",
              "    <tr>\n",
              "      <th>19528</th>\n",
              "      <td>/i/3so2wo</td>\n",
              "      <td>if apartments are called apartments; why are t...</td>\n",
              "    </tr>\n",
              "    <tr>\n",
              "      <th>19526</th>\n",
              "      <td>/i/1fuzq1</td>\n",
              "      <td>when i see lovers' names carved in a tree, i d...</td>\n",
              "    </tr>\n",
              "  </tbody>\n",
              "</table>\n",
              "</div>\n",
              "      <button class=\"colab-df-convert\" onclick=\"convertToInteractive('df-c6596481-ad5c-4bf0-8038-ae12ebb1a40a')\"\n",
              "              title=\"Convert this dataframe to an interactive table.\"\n",
              "              style=\"display:none;\">\n",
              "        \n",
              "  <svg xmlns=\"http://www.w3.org/2000/svg\" height=\"24px\"viewBox=\"0 0 24 24\"\n",
              "       width=\"24px\">\n",
              "    <path d=\"M0 0h24v24H0V0z\" fill=\"none\"/>\n",
              "    <path d=\"M18.56 5.44l.94 2.06.94-2.06 2.06-.94-2.06-.94-.94-2.06-.94 2.06-2.06.94zm-11 1L8.5 8.5l.94-2.06 2.06-.94-2.06-.94L8.5 2.5l-.94 2.06-2.06.94zm10 10l.94 2.06.94-2.06 2.06-.94-2.06-.94-.94-2.06-.94 2.06-2.06.94z\"/><path d=\"M17.41 7.96l-1.37-1.37c-.4-.4-.92-.59-1.43-.59-.52 0-1.04.2-1.43.59L10.3 9.45l-7.72 7.72c-.78.78-.78 2.05 0 2.83L4 21.41c.39.39.9.59 1.41.59.51 0 1.02-.2 1.41-.59l7.78-7.78 2.81-2.81c.8-.78.8-2.07 0-2.86zM5.41 20L4 18.59l7.72-7.72 1.47 1.35L5.41 20z\"/>\n",
              "  </svg>\n",
              "      </button>\n",
              "      \n",
              "  <style>\n",
              "    .colab-df-container {\n",
              "      display:flex;\n",
              "      flex-wrap:wrap;\n",
              "      gap: 12px;\n",
              "    }\n",
              "\n",
              "    .colab-df-convert {\n",
              "      background-color: #E8F0FE;\n",
              "      border: none;\n",
              "      border-radius: 50%;\n",
              "      cursor: pointer;\n",
              "      display: none;\n",
              "      fill: #1967D2;\n",
              "      height: 32px;\n",
              "      padding: 0 0 0 0;\n",
              "      width: 32px;\n",
              "    }\n",
              "\n",
              "    .colab-df-convert:hover {\n",
              "      background-color: #E2EBFA;\n",
              "      box-shadow: 0px 1px 2px rgba(60, 64, 67, 0.3), 0px 1px 3px 1px rgba(60, 64, 67, 0.15);\n",
              "      fill: #174EA6;\n",
              "    }\n",
              "\n",
              "    [theme=dark] .colab-df-convert {\n",
              "      background-color: #3B4455;\n",
              "      fill: #D2E3FC;\n",
              "    }\n",
              "\n",
              "    [theme=dark] .colab-df-convert:hover {\n",
              "      background-color: #434B5C;\n",
              "      box-shadow: 0px 1px 3px 1px rgba(0, 0, 0, 0.15);\n",
              "      filter: drop-shadow(0px 1px 2px rgba(0, 0, 0, 0.3));\n",
              "      fill: #FFFFFF;\n",
              "    }\n",
              "  </style>\n",
              "\n",
              "      <script>\n",
              "        const buttonEl =\n",
              "          document.querySelector('#df-c6596481-ad5c-4bf0-8038-ae12ebb1a40a button.colab-df-convert');\n",
              "        buttonEl.style.display =\n",
              "          google.colab.kernel.accessAllowed ? 'block' : 'none';\n",
              "\n",
              "        async function convertToInteractive(key) {\n",
              "          const element = document.querySelector('#df-c6596481-ad5c-4bf0-8038-ae12ebb1a40a');\n",
              "          const dataTable =\n",
              "            await google.colab.kernel.invokeFunction('convertToInteractive',\n",
              "                                                     [key], {});\n",
              "          if (!dataTable) return;\n",
              "\n",
              "          const docLinkHtml = 'Like what you see? Visit the ' +\n",
              "            '<a target=\"_blank\" href=https://colab.research.google.com/notebooks/data_table.ipynb>data table notebook</a>'\n",
              "            + ' to learn more about interactive tables.';\n",
              "          element.innerHTML = '';\n",
              "          dataTable['output_type'] = 'display_data';\n",
              "          await google.colab.output.renderOutput(dataTable, element);\n",
              "          const docLink = document.createElement('div');\n",
              "          docLink.innerHTML = docLinkHtml;\n",
              "          element.appendChild(docLink);\n",
              "        }\n",
              "      </script>\n",
              "    </div>\n",
              "  </div>\n",
              "  "
            ],
            "text/plain": [
              "        mem_href                                    mem_description\n",
              "19832  /i/4cs0ed                         me trying to make friends \n",
              "19211  /i/5n2m7y  do you think the black power ranger got offend...\n",
              "19137  /i/5p8n8a  trying to find out if i broke facebook's polic...\n",
              "19711  /i/547lsd                   not sure if; soccer or football \n",
              "19025  /i/5v57lw  me when i go upsairs and i see my parents room...\n",
              "19421  /i/5jq1d9  mum during a fight \"my house!!!\"; mum during c...\n",
              "19790  /i/4fqw64  not sure if reaper leviathan is tryna hug me; ...\n",
              "19041  /i/5tls2u     be on cams on among us be like; 3 hours later \n",
              "19528  /i/3so2wo  if apartments are called apartments; why are t...\n",
              "19526  /i/1fuzq1  when i see lovers' names carved in a tree, i d..."
            ]
          },
          "execution_count": 13,
          "metadata": {},
          "output_type": "execute_result"
        }
      ],
      "source": [
        "df[ df['template'] == \"Futurama-Fry\" ].sample(10)[['mem_href', 'mem_description']]"
      ]
    },
    {
      "cell_type": "code",
      "execution_count": 14,
      "metadata": {
        "colab": {
          "base_uri": "https://localhost:8080/",
          "height": 435
        },
        "id": "rgSMg5NyXWWi",
        "outputId": "4da63a1c-79df-4b8a-e740-98235b60c6bc"
      },
      "outputs": [
        {
          "data": {
            "text/html": [
              "<img src=\"https://i.imgflip.com/20xwrd.jpg\"/>"
            ],
            "text/plain": [
              "<IPython.core.display.Image object>"
            ]
          },
          "execution_count": 14,
          "metadata": {},
          "output_type": "execute_result"
        }
      ],
      "source": [
        "show_meme(\"/i/20xwrd\")"
      ]
    },
    {
      "cell_type": "code",
      "execution_count": 15,
      "metadata": {
        "colab": {
          "base_uri": "https://localhost:8080/",
          "height": 521
        },
        "id": "tHD8cK3wVWDr",
        "outputId": "01eb8431-9c78-4bd4-95bb-0546830faa2e"
      },
      "outputs": [
        {
          "data": {
            "text/html": [
              "<img src=\"https://i.imgflip.com/5qj2hp.jpg\"/>"
            ],
            "text/plain": [
              "<IPython.core.display.Image object>"
            ]
          },
          "execution_count": 15,
          "metadata": {},
          "output_type": "execute_result"
        }
      ],
      "source": [
        "show_meme(\"/i/5qj2hp\")"
      ]
    },
    {
      "cell_type": "code",
      "execution_count": 16,
      "metadata": {
        "colab": {
          "base_uri": "https://localhost:8080/"
        },
        "id": "Wx5D2FIAHBCV",
        "outputId": "cd661ac5-74c8-4b71-f700-24d14c3a4c13"
      },
      "outputs": [
        {
          "data": {
            "text/plain": [
              "array(['Futurama-Fry', 'I-Bet-Hes-Thinking-About-Other-Women'],\n",
              "      dtype='<U53')"
            ]
          },
          "execution_count": 16,
          "metadata": {},
          "output_type": "execute_result"
        }
      ],
      "source": [
        "# ок, хотя бы i bet hes thinking угадала)\n",
        "\n",
        "clf_pipeline.predict( pd.DataFrame( [ {\"mem_description\": \"never has been\"}, {\"mem_description\": \"i bet he's thinkning about another woman\"} ] ) )"
      ]
    },
    {
      "cell_type": "code",
      "execution_count": 16,
      "metadata": {
        "id": "P-NshENjV3z7"
      },
      "outputs": [],
      "source": []
    }
  ],
  "metadata": {
    "colab": {
      "collapsed_sections": [],
      "name": "hw00-meme-caption-classification.ipynb",
      "provenance": []
    },
    "kernelspec": {
      "display_name": "Python 3",
      "name": "python3"
    },
    "language_info": {
      "name": "python"
    }
  },
  "nbformat": 4,
  "nbformat_minor": 0
}
